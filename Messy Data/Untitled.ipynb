{
 "cells": [
  {
   "cell_type": "code",
   "execution_count": 4,
   "id": "4b24ad60-45a0-403f-bb8b-de597fd19edb",
   "metadata": {},
   "outputs": [],
   "source": [
    "import pandas as pd\n",
    "import glob\n",
    "import os "
   ]
  },
  {
   "cell_type": "code",
   "execution_count": 11,
   "id": "b60dc6d9-fabb-44eb-98f5-96345ae511a5",
   "metadata": {},
   "outputs": [],
   "source": [
    "#folder_path = r\"Desktop/All things Moringa/Phase 5/Shilingi_AI/Messy Data\"\n",
    "folder_path = r\"C:\\Users\\hp\\Desktop\\All things Moringa\\Phase 5\\Shilingi_AI\\Messy Data\"\n",
    "\n",
    "\n"
   ]
  },
  {
   "cell_type": "code",
   "execution_count": 12,
   "id": "98cf8e58-955d-4601-bab8-e324b82963a0",
   "metadata": {},
   "outputs": [],
   "source": [
    "excel_files = [f for f in os.listdir(folder_path) if f.endswith(('.xlsx', '.xls'))]\n"
   ]
  },
  {
   "cell_type": "code",
   "execution_count": 13,
   "id": "09559e71-ce77-4ccc-a771-b4ca2711a54e",
   "metadata": {},
   "outputs": [
    {
     "name": "stdout",
     "output_type": "stream",
     "text": [
      "True\n"
     ]
    }
   ],
   "source": [
    "print(os.path.exists(folder_path))"
   ]
  },
  {
   "cell_type": "code",
   "execution_count": 15,
   "id": "ea4b0099-d8b5-43e5-9120-dcd069572c8b",
   "metadata": {},
   "outputs": [
    {
     "name": "stdout",
     "output_type": "stream",
     "text": [
      "['2010_data.xlsx', '2011_data.xlsx', '2012_data.xlsx', '2013_data.xlsx', '2014_data.xlsx', '2015_data.xlsx', '2016_data.xlsx', '2017_data.xlsx', '2018_data.xlsx', '2019_data.xlsx', '2020_data.xlsx']\n"
     ]
    }
   ],
   "source": [
    "excel_files = [f for f in os.listdir(folder_path) if f.endswith(('.xlsx', '.xls'))]\n",
    "print(excel_files)\n"
   ]
  },
  {
   "cell_type": "code",
   "execution_count": 16,
   "id": "93753612-1ec1-4323-a6af-b79ba7c9d0b7",
   "metadata": {},
   "outputs": [],
   "source": [
    "dataframes = []\n",
    "for file in excel_files:\n",
    "    file_path = os.path.join(folder_path, file)\n",
    "    df = pd.read_excel(file_path)\n",
    "    df['SourceFile'] = file  # Optional: keep track of which file each row came from\n",
    "    dataframes.append(df)\n"
   ]
  },
  {
   "cell_type": "code",
   "execution_count": 17,
   "id": "5260d695-3733-4174-a85f-455d06284618",
   "metadata": {},
   "outputs": [],
   "source": [
    "merged_df = pd.concat(dataframes, ignore_index=True)"
   ]
  },
  {
   "cell_type": "code",
   "execution_count": 18,
   "id": "2f9a3f16-a3f4-46eb-8d11-dd49f070727a",
   "metadata": {},
   "outputs": [],
   "source": [
    "#  Step 5: Save the merged dataset\n",
    "output_path = os.path.join(folder_path, \"Merged_Inflation_Data_2010_2020.xlsx\")\n",
    "merged_df.to_excel(output_path, index=False)"
   ]
  },
  {
   "cell_type": "code",
   "execution_count": 21,
   "id": "c7ad90fa-6c61-4250-84f2-432d18d0550f",
   "metadata": {},
   "outputs": [
    {
     "name": "stdout",
     "output_type": "stream",
     "text": [
      "              Broad Item Group                 Date  \\\n",
      "0  Food & Non-alcoholic drinks  2010-01-01 00:00:00   \n",
      "1            Alcohol & Tobacco  2010-01-01 00:00:00   \n",
      "2          Clothing & Footwear  2010-01-01 00:00:00   \n",
      "3                Housing Costs  2010-01-01 00:00:00   \n",
      "4                 Fuel & Power  2010-01-01 00:00:00   \n",
      "\n",
      "  % Change on\\nPrevious Year\\n(January 2010/January 2009)  \\\n",
      "0                                               -0.7        \n",
      "1                                                2.9        \n",
      "2                                                1.5        \n",
      "3                                                  1        \n",
      "4                                                  2        \n",
      "\n",
      "  % Change on\\nPrevious Year\\n(January 2010/January 2009)2 Unnamed: 4  \\\n",
      "0                                                4.1              NaN   \n",
      "1                                               14.6              NaN   \n",
      "2                                                6.8              NaN   \n",
      "3                                                5.3              NaN   \n",
      "4                                                5.1              NaN   \n",
      "\n",
      "       SourceFile Broad Commodity Group CPI\\nWeight  \\\n",
      "0  2010_data.xlsx                   NaN         NaN   \n",
      "1  2010_data.xlsx                   NaN         NaN   \n",
      "2  2010_data.xlsx                   NaN         NaN   \n",
      "3  2010_data.xlsx                   NaN         NaN   \n",
      "4  2010_data.xlsx                   NaN         NaN   \n",
      "\n",
      "  % Change on\\nJanuary 2012\\n/December\\n2011)  \\\n",
      "0                                         NaN   \n",
      "1                                         NaN   \n",
      "2                                         NaN   \n",
      "3                                         NaN   \n",
      "4                                         NaN   \n",
      "\n",
      "  % Change on\\nPrevious Year\\n(January\\n2012/\\nJanuary\\n2011)  ...  \\\n",
      "0                                                NaN           ...   \n",
      "1                                                NaN           ...   \n",
      "2                                                NaN           ...   \n",
      "3                                                NaN           ...   \n",
      "4                                                NaN           ...   \n",
      "\n",
      "  % Change on\\nsame month of\\nprevious year\\n(Jan 2015/ Jan\\n2014)  \\\n",
      "0                                                NaN                 \n",
      "1                                                NaN                 \n",
      "2                                                NaN                 \n",
      "3                                                NaN                 \n",
      "4                                                NaN                 \n",
      "\n",
      "  % Change on\\nlast month\\n(January 2016/\\nDecember 2015)  \\\n",
      "0                                                NaN        \n",
      "1                                                NaN        \n",
      "2                                                NaN        \n",
      "3                                                NaN        \n",
      "4                                                NaN        \n",
      "\n",
      "  % Change on\\nsame month of\\nprevious year\\n(January 2016/\\nJanuary 2015)  \\\n",
      "0                                                NaN                         \n",
      "1                                                NaN                         \n",
      "2                                                NaN                         \n",
      "3                                                NaN                         \n",
      "4                                                NaN                         \n",
      "\n",
      "  % Change on\\nlast month\\n(January 2017/\\nDecember\\n2016)  \\\n",
      "0                                                NaN         \n",
      "1                                                NaN         \n",
      "2                                                NaN         \n",
      "3                                                NaN         \n",
      "4                                                NaN         \n",
      "\n",
      "  % Change on same\\nmonth of previous\\nyear (January\\n2017/ January\\n2016)  \\\n",
      "0                                                NaN                         \n",
      "1                                                NaN                         \n",
      "2                                                NaN                         \n",
      "3                                                NaN                         \n",
      "4                                                NaN                         \n",
      "\n",
      "  Weight % Change on last\\nmonth (January\\n2018/ December\\n2017)  \\\n",
      "0    NaN                                                NaN        \n",
      "1    NaN                                                NaN        \n",
      "2    NaN                                                NaN        \n",
      "3    NaN                                                NaN        \n",
      "4    NaN                                                NaN        \n",
      "\n",
      "  % Change on same\\nmonth of previous year\\n(January 2018/\\nJanuary 2017)  \\\n",
      "0                                                NaN                        \n",
      "1                                                NaN                        \n",
      "2                                                NaN                        \n",
      "3                                                NaN                        \n",
      "4                                                NaN                        \n",
      "\n",
      "  % Change on last month (Jan19 /Dec18)  \\\n",
      "0                                   NaN   \n",
      "1                                   NaN   \n",
      "2                                   NaN   \n",
      "3                                   NaN   \n",
      "4                                   NaN   \n",
      "\n",
      "  % Change on same month of previous year (Jan19 /Jan18)  \n",
      "0                                                NaN      \n",
      "1                                                NaN      \n",
      "2                                                NaN      \n",
      "3                                                NaN      \n",
      "4                                                NaN      \n",
      "\n",
      "[5 rows x 25 columns]\n"
     ]
    }
   ],
   "source": [
    "print(merged_df.head())\n"
   ]
  },
  {
   "cell_type": "code",
   "execution_count": 22,
   "id": "3bbead97-290f-4eb6-bf62-de2f13f98b3f",
   "metadata": {},
   "outputs": [
    {
     "name": "stdout",
     "output_type": "stream",
     "text": [
      "Rows: 1388\n",
      "Columns: 25\n",
      "\n",
      "Column names:\n",
      " ['Broad Item Group', 'Date', '% Change on\\nPrevious Year\\n(January 2010/January 2009)', '% Change on\\nPrevious Year\\n(January 2010/January 2009)2', 'Unnamed: 4', 'SourceFile', 'Broad Commodity Group', 'CPI\\nWeight', '% Change on\\nJanuary 2012\\n/December\\n2011)', '% Change on\\nPrevious Year\\n(January\\n2012/\\nJanuary\\n2011)', '% Change on last\\nmonth\\n(January 2013/\\nDecember 2012)', '% Change on\\nsame month of\\nPrevious Year\\n(January\\n2013/ January\\n2012)', '% Change on\\nlast month\\n(January2014/\\nDecember\\n2013)', '% Change on same\\nmonth of\\nprevious year\\n(January 2014/\\nJanuary 2013)', '% Change on\\nlast month\\n(Jan 2015/\\nDec 2014)', '% Change on\\nsame month of\\nprevious year\\n(Jan 2015/ Jan\\n2014)', '% Change on\\nlast month\\n(January 2016/\\nDecember 2015)', '% Change on\\nsame month of\\nprevious year\\n(January 2016/\\nJanuary 2015)', '% Change on\\nlast month\\n(January 2017/\\nDecember\\n2016)', '% Change on same\\nmonth of previous\\nyear (January\\n2017/ January\\n2016)', 'Weight', '% Change on last\\nmonth (January\\n2018/ December\\n2017)', '% Change on same\\nmonth of previous year\\n(January 2018/\\nJanuary 2017)', '% Change on last month (Jan19 /Dec18)', '% Change on same month of previous year (Jan19 /Jan18)']\n"
     ]
    }
   ],
   "source": [
    "print(\"Rows:\", merged_df.shape[0])\n",
    "print(\"Columns:\", merged_df.shape[1])\n",
    "print(\"\\nColumn names:\\n\", merged_df.columns.tolist())\n"
   ]
  },
  {
   "cell_type": "code",
   "execution_count": 23,
   "id": "abe10c6b-0246-4e21-923f-0966c6238d51",
   "metadata": {},
   "outputs": [
    {
     "name": "stdout",
     "output_type": "stream",
     "text": [
      "✅ Merged dataset saved at: C:\\Users\\hp\\Desktop\\All things Moringa\\Phase 5\\Shilingi_AI\\Messy Data\\Merged_Inflation_Data_2010_2020.xlsx\n"
     ]
    }
   ],
   "source": [
    "output_path = os.path.join(folder_path, \"Merged_Inflation_Data_2010_2020.xlsx\")\n",
    "merged_df.to_excel(output_path, index=False)\n",
    "print(\"✅ Merged dataset saved at:\", output_path)\n"
   ]
  },
  {
   "cell_type": "code",
   "execution_count": null,
   "id": "88c2b2ee-58ff-4e56-8247-649f8fd31e9e",
   "metadata": {},
   "outputs": [],
   "source": []
  }
 ],
 "metadata": {
  "kernelspec": {
   "display_name": "Python 3 (ipykernel)",
   "language": "python",
   "name": "python3"
  },
  "language_info": {
   "codemirror_mode": {
    "name": "ipython",
    "version": 3
   },
   "file_extension": ".py",
   "mimetype": "text/x-python",
   "name": "python",
   "nbconvert_exporter": "python",
   "pygments_lexer": "ipython3",
   "version": "3.12.7"
  }
 },
 "nbformat": 4,
 "nbformat_minor": 5
}
